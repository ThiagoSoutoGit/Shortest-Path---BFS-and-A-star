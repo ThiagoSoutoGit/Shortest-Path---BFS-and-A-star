{
 "cells": [
  {
   "cell_type": "code",
   "execution_count": 1,
   "metadata": {},
   "outputs": [],
   "source": [
    "from collections import deque\n",
    "\n",
    "def maze2graph(maze):\n",
    "    height = len(maze)\n",
    "    width = len(maze[0]) if height else 0\n",
    "    graph = {(i, j): [] for j in range(width) for i in range(height) if not maze[i][j]}\n",
    "    for row, col in graph.keys():\n",
    "        if row < height - 1 and not maze[row + 1][col]:\n",
    "            graph[(row, col)].append((\"D\", (row + 1, col)))\n",
    "            graph[(row + 1, col)].append((\"U\", (row, col)))\n",
    "        if col < width - 1 and not maze[row][col + 1]:\n",
    "            graph[(row, col)].append((\"L\", (row, col + 1)))\n",
    "            graph[(row, col + 1)].append((\"R\", (row, col)))\n",
    "    return graph\n",
    "\n",
    "def find_path_dfs(maze):\n",
    "    start, goal = (1, 1), (len(maze) - 2, len(maze[0]) - 2)\n",
    "    stack = deque([(\"\", start)])\n",
    "    visited = set()\n",
    "    graph = maze2graph(maze)\n",
    "    while stack:\n",
    "        path, current = stack.pop()\n",
    "        if current == goal:\n",
    "            return path\n",
    "        if current in visited:\n",
    "            continue\n",
    "        visited.add(current)\n",
    "        for direction, neighbour in graph[current]:\n",
    "            stack.append((path + direction, neighbour))\n",
    "    return \"NO WAY!\""
   ]
  }
 ],
 "metadata": {
  "kernelspec": {
   "display_name": "Python 3.8.10 64-bit",
   "language": "python",
   "name": "python3"
  },
  "language_info": {
   "codemirror_mode": {
    "name": "ipython",
    "version": 3
   },
   "file_extension": ".py",
   "mimetype": "text/x-python",
   "name": "python",
   "nbconvert_exporter": "python",
   "pygments_lexer": "ipython3",
   "version": "3.8.10"
  },
  "orig_nbformat": 4,
  "vscode": {
   "interpreter": {
    "hash": "e7370f93d1d0cde622a1f8e1c04877d8463912d04d973331ad4851f04de6915a"
   }
  }
 },
 "nbformat": 4,
 "nbformat_minor": 2
}
